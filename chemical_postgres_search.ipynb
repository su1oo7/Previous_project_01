{
 "cells": [
  {
   "cell_type": "code",
   "execution_count": 117,
   "id": "e4ec6c89",
   "metadata": {},
   "outputs": [
    {
     "data": {
      "text/html": [
       "<div>\n",
       "<style scoped>\n",
       "    .dataframe tbody tr th:only-of-type {\n",
       "        vertical-align: middle;\n",
       "    }\n",
       "\n",
       "    .dataframe tbody tr th {\n",
       "        vertical-align: top;\n",
       "    }\n",
       "\n",
       "    .dataframe thead th {\n",
       "        text-align: right;\n",
       "    }\n",
       "</style>\n",
       "<table border=\"1\" class=\"dataframe\">\n",
       "  <thead>\n",
       "    <tr style=\"text-align: right;\">\n",
       "      <th></th>\n",
       "      <th>code</th>\n",
       "      <th>smiles</th>\n",
       "      <th>date</th>\n",
       "      <th>similarity</th>\n",
       "      <th>source</th>\n",
       "      <th>country</th>\n",
       "      <th>num</th>\n",
       "      <th>contries</th>\n",
       "    </tr>\n",
       "  </thead>\n",
       "  <tbody>\n",
       "    <tr>\n",
       "      <th>20458</th>\n",
       "      <td>WO-2006049942-A9</td>\n",
       "      <td>CC(=O)Oc1ccccc1C(=O)O</td>\n",
       "      <td>2015-07-16</td>\n",
       "      <td>1.0</td>\n",
       "      <td>SureChEMBL</td>\n",
       "      <td>WO</td>\n",
       "      <td>365331</td>\n",
       "      <td>[EP, JP, US, WO]</td>\n",
       "    </tr>\n",
       "    <tr>\n",
       "      <th>259896</th>\n",
       "      <td>EP-2910589-B1</td>\n",
       "      <td>CC(=O)Oc1ccccc1C(=O)O</td>\n",
       "      <td>2019-09-11</td>\n",
       "      <td>1.0</td>\n",
       "      <td>SureChEMBL</td>\n",
       "      <td>EP</td>\n",
       "      <td>365331</td>\n",
       "      <td>[EP, JP, US, WO]</td>\n",
       "    </tr>\n",
       "  </tbody>\n",
       "</table>\n",
       "</div>"
      ],
      "text/plain": [
       "                    code                 smiles        date  similarity  \\\n",
       "20458   WO-2006049942-A9  CC(=O)Oc1ccccc1C(=O)O  2015-07-16         1.0   \n",
       "259896     EP-2910589-B1  CC(=O)Oc1ccccc1C(=O)O  2019-09-11         1.0   \n",
       "\n",
       "            source country     num          contries  \n",
       "20458   SureChEMBL      WO  365331  [EP, JP, US, WO]  \n",
       "259896  SureChEMBL      EP  365331  [EP, JP, US, WO]  "
      ]
     },
     "execution_count": 117,
     "metadata": {},
     "output_type": "execute_result"
    }
   ],
   "source": [
    "df[df.duplicated(['code','smiles'])]"
   ]
  },
  {
   "cell_type": "code",
   "execution_count": 118,
   "id": "07f140ba",
   "metadata": {},
   "outputs": [
    {
     "data": {
      "text/html": [
       "<div>\n",
       "<style scoped>\n",
       "    .dataframe tbody tr th:only-of-type {\n",
       "        vertical-align: middle;\n",
       "    }\n",
       "\n",
       "    .dataframe tbody tr th {\n",
       "        vertical-align: top;\n",
       "    }\n",
       "\n",
       "    .dataframe thead th {\n",
       "        text-align: right;\n",
       "    }\n",
       "</style>\n",
       "<table border=\"1\" class=\"dataframe\">\n",
       "  <thead>\n",
       "    <tr style=\"text-align: right;\">\n",
       "      <th></th>\n",
       "      <th>code</th>\n",
       "      <th>smiles</th>\n",
       "      <th>date</th>\n",
       "      <th>similarity</th>\n",
       "      <th>source</th>\n",
       "      <th>country</th>\n",
       "      <th>num</th>\n",
       "      <th>contries</th>\n",
       "    </tr>\n",
       "  </thead>\n",
       "  <tbody>\n",
       "    <tr>\n",
       "      <th>20457</th>\n",
       "      <td>WO-2006049942-A9</td>\n",
       "      <td>CC(=O)Oc1ccccc1C(=O)O</td>\n",
       "      <td>2015-04-09</td>\n",
       "      <td>1.0</td>\n",
       "      <td>SureChEMBL</td>\n",
       "      <td>WO</td>\n",
       "      <td>365331</td>\n",
       "      <td>[EP, JP, US, WO]</td>\n",
       "    </tr>\n",
       "    <tr>\n",
       "      <th>20458</th>\n",
       "      <td>WO-2006049942-A9</td>\n",
       "      <td>CC(=O)Oc1ccccc1C(=O)O</td>\n",
       "      <td>2015-07-16</td>\n",
       "      <td>1.0</td>\n",
       "      <td>SureChEMBL</td>\n",
       "      <td>WO</td>\n",
       "      <td>365331</td>\n",
       "      <td>[EP, JP, US, WO]</td>\n",
       "    </tr>\n",
       "  </tbody>\n",
       "</table>\n",
       "</div>"
      ],
      "text/plain": [
       "                   code                 smiles        date  similarity  \\\n",
       "20457  WO-2006049942-A9  CC(=O)Oc1ccccc1C(=O)O  2015-04-09         1.0   \n",
       "20458  WO-2006049942-A9  CC(=O)Oc1ccccc1C(=O)O  2015-07-16         1.0   \n",
       "\n",
       "           source country     num          contries  \n",
       "20457  SureChEMBL      WO  365331  [EP, JP, US, WO]  \n",
       "20458  SureChEMBL      WO  365331  [EP, JP, US, WO]  "
      ]
     },
     "execution_count": 118,
     "metadata": {},
     "output_type": "execute_result"
    }
   ],
   "source": [
    "df[(df['code']=='WO-2006049942-A9')&(df['smiles']=='CC(=O)Oc1ccccc1C(=O)O')]"
   ]
  },
  {
   "cell_type": "code",
   "execution_count": 1,
   "id": "00cf8eef",
   "metadata": {},
   "outputs": [],
   "source": [
    "from rdkit import Chem\n",
    "# from rdkit import DataStructs\n",
    "# from rdkit import rdBase\n",
    "# from rdkit.Chem.Draw import IPythonConsole\n",
    "# from rdkit.Chem import Draw"
   ]
  },
  {
   "cell_type": "code",
   "execution_count": 2,
   "id": "3c9577c0",
   "metadata": {},
   "outputs": [],
   "source": [
    "import matplotlib.pyplot as plt\n",
    "import pandas as pd\n",
    "import numpy as np\n",
    "import time\n",
    "import json \n",
    "import pandas.io.sql as psql"
   ]
  },
  {
   "cell_type": "code",
   "execution_count": 3,
   "id": "0845a566",
   "metadata": {},
   "outputs": [],
   "source": [
    "import warnings\n",
    "warnings.filterwarnings('ignore')"
   ]
  },
  {
   "cell_type": "code",
   "execution_count": 4,
   "id": "d6d99118",
   "metadata": {},
   "outputs": [],
   "source": [
    "import psycopg2,time\n",
    "# print(time.asctime(),\"rdkit=\",rdBase.rdkitVersion)"
   ]
  },
  {
   "cell_type": "code",
   "execution_count": 5,
   "id": "d409f127",
   "metadata": {},
   "outputs": [],
   "source": [
    "from rdkit.Chem import rdFMCS\n",
    "# from rdkit.Chem.Draw import rdMolDraw2D\n",
    "# from IPython.display import SVG"
   ]
  },
  {
   "cell_type": "code",
   "execution_count": null,
   "id": "798a4d97",
   "metadata": {},
   "outputs": [],
   "source": [
    "user = # postgresql DB user ID\n",
    "password = # password\n",
    "host_product =  # 서버 IP \n",
    "dbname = # DB Name\n",
    "port=# port number"
   ]
  },
  {
   "cell_type": "code",
   "execution_count": 6,
   "id": "efb2475b",
   "metadata": {},
   "outputs": [],
   "source": []
  },
  {
   "cell_type": "code",
   "execution_count": 7,
   "id": "b844c4a9",
   "metadata": {},
   "outputs": [],
   "source": [
    "product_connection_string = \"dbname={dbname} user={user} host={host} password={password} port={port}\".format(dbname=dbname,\n",
    "                                    user=user,\n",
    "                                    host=host_product,\n",
    "                                    password=password,\n",
    "                                    port=port) "
   ]
  },
  {
   "cell_type": "code",
   "execution_count": 8,
   "id": "e1b63c39",
   "metadata": {},
   "outputs": [
    {
     "name": "stdout",
     "output_type": "stream",
     "text": [
      "Success to connect to the database 'patent'\n"
     ]
    }
   ],
   "source": [
    "try:\n",
    "    conn = psycopg2.connect(product_connection_string)\n",
    "    print(f\"Success to connect to the database '{dbname}'\")\n",
    "except:\n",
    "    print(\"Unable to connect to the database\")"
   ]
  },
  {
   "cell_type": "code",
   "execution_count": 9,
   "id": "bf8aa1bc",
   "metadata": {
    "scrolled": true
   },
   "outputs": [],
   "source": [
    "inp = pd.read_csv('input.tsv',sep = '\\t')\n",
    "option = {\"code\":\"JP,WO,EP,US\",\"cutoff\":0.8,\"cpus\":5,\"num_save\":500,\"method\":'substructure'}#\"similarity\"}"
   ]
  },
  {
   "cell_type": "code",
   "execution_count": 10,
   "id": "729a922a",
   "metadata": {},
   "outputs": [
    {
     "data": {
      "text/plain": [
       "{'code': 'JP,WO,EP,US',\n",
       " 'cutoff': 0.8,\n",
       " 'cpus': 5,\n",
       " 'num_save': 500,\n",
       " 'method': 'substructure'}"
      ]
     },
     "execution_count": 10,
     "metadata": {},
     "output_type": "execute_result"
    }
   ],
   "source": [
    "option"
   ]
  },
  {
   "cell_type": "code",
   "execution_count": 11,
   "id": "1e82e89b",
   "metadata": {},
   "outputs": [
    {
     "data": {
      "text/html": [
       "<div>\n",
       "<style scoped>\n",
       "    .dataframe tbody tr th:only-of-type {\n",
       "        vertical-align: middle;\n",
       "    }\n",
       "\n",
       "    .dataframe tbody tr th {\n",
       "        vertical-align: top;\n",
       "    }\n",
       "\n",
       "    .dataframe thead th {\n",
       "        text-align: right;\n",
       "    }\n",
       "</style>\n",
       "<table border=\"1\" class=\"dataframe\">\n",
       "  <thead>\n",
       "    <tr style=\"text-align: right;\">\n",
       "      <th></th>\n",
       "      <th>id</th>\n",
       "      <th>smiles</th>\n",
       "    </tr>\n",
       "  </thead>\n",
       "  <tbody>\n",
       "    <tr>\n",
       "      <th>0</th>\n",
       "      <td>Adavosertib</td>\n",
       "      <td>O=C1N(N(C2=NC(NC3=CC=C(C=C3)N4CCN(CC4)C)=NC=C2...</td>\n",
       "    </tr>\n",
       "    <tr>\n",
       "      <th>1</th>\n",
       "      <td>Afatinib</td>\n",
       "      <td>CN(C)CC=CC(=O)NC1=C(C=C2C(=C1)C(=NC=N2)NC3=CC(...</td>\n",
       "    </tr>\n",
       "    <tr>\n",
       "      <th>2</th>\n",
       "      <td>Aspirin</td>\n",
       "      <td>CC(=O)OC1=CC=CC=C1C(=O)O</td>\n",
       "    </tr>\n",
       "    <tr>\n",
       "      <th>3</th>\n",
       "      <td>test</td>\n",
       "      <td>N1=CC=CN2N=CC(C(N)=O)=C12</td>\n",
       "    </tr>\n",
       "  </tbody>\n",
       "</table>\n",
       "</div>"
      ],
      "text/plain": [
       "            id                                             smiles\n",
       "0  Adavosertib  O=C1N(N(C2=NC(NC3=CC=C(C=C3)N4CCN(CC4)C)=NC=C2...\n",
       "1     Afatinib  CN(C)CC=CC(=O)NC1=C(C=C2C(=C1)C(=NC=N2)NC3=CC(...\n",
       "2      Aspirin                           CC(=O)OC1=CC=CC=C1C(=O)O\n",
       "3         test                          N1=CC=CN2N=CC(C(N)=O)=C12"
      ]
     },
     "execution_count": 11,
     "metadata": {},
     "output_type": "execute_result"
    }
   ],
   "source": [
    "inp"
   ]
  },
  {
   "cell_type": "code",
   "execution_count": 12,
   "id": "ec071a39",
   "metadata": {},
   "outputs": [],
   "source": [
    "name = inp['id'].tolist()\n",
    "query = inp['smiles'].tolist()\n",
    "threshold = option['cutoff']\n",
    "num_input = len(name)\n",
    "limit = option['num_save']\n",
    "method = option['method']"
   ]
  },
  {
   "cell_type": "code",
   "execution_count": 13,
   "id": "c1246f17",
   "metadata": {},
   "outputs": [
    {
     "data": {
      "text/plain": [
       "['O=C1N(N(C2=NC(NC3=CC=C(C=C3)N4CCN(CC4)C)=NC=C21)C5=NC(C(O)(C)C)=CC=C5)CC=C',\n",
       " 'CN(C)CC=CC(=O)NC1=C(C=C2C(=C1)C(=NC=N2)NC3=CC(=C(C=C3)F)Cl)OC4CCOC4',\n",
       " 'CC(=O)OC1=CC=CC=C1C(=O)O',\n",
       " 'N1=CC=CN2N=CC(C(N)=O)=C12']"
      ]
     },
     "execution_count": 13,
     "metadata": {},
     "output_type": "execute_result"
    }
   ],
   "source": [
    "query"
   ]
  },
  {
   "cell_type": "code",
   "execution_count": 15,
   "id": "d6e71bd5",
   "metadata": {},
   "outputs": [],
   "source": [
    "def get_SS_SMARTS(q,s):\n",
    "    ms = Chem.MolFromSmiles(s)\n",
    "    m = Chem.MolFromSmiles(q)\n",
    "    mcs = rdFMCS.FindMCS([ms,m])\n",
    "    \n",
    "    return mcs.smartsString"
   ]
  },
  {
   "cell_type": "code",
   "execution_count": null,
   "id": "d2c9eb5c",
   "metadata": {},
   "outputs": [],
   "source": []
  },
  {
   "cell_type": "code",
   "execution_count": 19,
   "id": "ded1a1fb",
   "metadata": {},
   "outputs": [
    {
     "name": "stdout",
     "output_type": "stream",
     "text": [
      "Start Substruture Search\n",
      "start, 1680679985.4012938\n",
      "query end, 1680680015.640782\n",
      "country filtering, 1680680015.6430674\n",
      "num contries groupby, 1680680015.66061\n",
      "sub sorting df, 1680680015.6613066\n",
      "unique patent code, 1680680015.6653895\n",
      "drop duplicates, 1680680015.665784\n",
      "get MCS, 1680680015.811187\n",
      "into output, 1680680015.8124967\n",
      ">> 1st compound done:\n",
      "Start Substruture Search\n",
      "start, 1680680015.8125088\n",
      "query end, 1680680045.7644854\n",
      "country filtering, 1680680045.7691956\n",
      "num contries groupby, 1680680045.841914\n",
      "sub sorting df, 1680680045.8432472\n",
      "unique patent code, 1680680045.849536\n",
      "drop duplicates, 1680680045.8501427\n",
      "get MCS, 1680680045.986864\n",
      "into output, 1680680045.9883628\n",
      ">> 2nd compound done:\n",
      "Start Substruture Search\n",
      "start, 1680680045.9883752\n",
      "query end, 1680680076.9258926\n",
      "country filtering, 1680680076.9280682\n",
      "num contries groupby, 1680680077.0009823\n",
      "sub sorting df, 1680680077.0021856\n",
      "unique patent code, 1680680077.0164807\n",
      "drop duplicates, 1680680077.0170734\n",
      "get MCS, 1680680077.2162914\n",
      "into output, 1680680077.2191868\n",
      ">> 3rd compound done:\n",
      "Start Substruture Search\n",
      "start, 1680680077.2192\n",
      "query end, 1680680108.389101\n",
      "country filtering, 1680680108.392458\n",
      "num contries groupby, 1680680108.4461434\n",
      "sub sorting df, 1680680108.4471202\n",
      "unique patent code, 1680680108.4604783\n",
      "drop duplicates, 1680680108.4610047\n",
      "get MCS, 1680680108.6675816\n",
      "into output, 1680680108.6703217\n",
      ">> 4th compound done:\n",
      "Searched patent for 123 second\n"
     ]
    }
   ],
   "source": [
    "output = pd.DataFrame(columns=  ['query_id','query_smiles','num_patent','num_comp','patent','result'])\n",
    "start = time.time()\n",
    "for i in range(num_input):\n",
    "    a = time.time()\n",
    "    if method == 'similarity':\n",
    "        print('Start Similarity Search')\n",
    "        print('start,',time.time())\n",
    "        df = psql.read_sql(f\"select db.code, db.smiles, db.date, res.similarity from db inner join \\\n",
    "                            (select * from get_mfp_neighbors('{query[i]}',{threshold},{int(limit)})) as res \\\n",
    "                             on db.smiles=res.smiles;\",conn)\n",
    "        df = df.sort_values('similarity',ascending = False).reset_index(drop = True)\n",
    "    elif method == 'substructure':\n",
    "        print('Start Substruture Search')\n",
    "        print('start,',time.time())\n",
    "        df = psql.read_sql(f\"select db.code, db.smiles, db.date from db inner join \\\n",
    "                            (select smiles from mol_mfp where m@>cast(mol_to_smarts(mol_from_smiles('{query[i]}'))as text)::qmol limit {int(limit)}) as res \\\n",
    "                             on db.smiles=res.smiles;\",conn)\n",
    "    b = time.time()\n",
    "    print('query end,',time.time())\n",
    "    df['source'] = 'SureChEMBL' \n",
    "    df['country'] = df['code'].apply(lambda x:x[:2])\n",
    "    df = df[df['country'].isin(option['code'].split(\",\"))].reset_index(drop = True)\n",
    "    print('country filtering,',time.time())\n",
    "\n",
    "    num = df.groupby('smiles')['code'].nunique()\n",
    "    df['num'] = df['smiles'].apply(lambda x: num.loc[x].item())\n",
    "    kigdom = df.groupby('smiles')['country'].apply(lambda x: list(np.unique(x)))\n",
    "    df['contries'] = df['smiles'].apply(lambda x: kigdom.loc[x])\n",
    "    print('num contries groupby,',time.time())\n",
    "\n",
    "    if method == 'similarity':\n",
    "        df.columns = ['patent_code','smiles','date','similarity','source','each_country_code','num','country_code']\n",
    "        df = df[['smiles','similarity','country_code','patent_code','date','source','num']]\n",
    "        df = df.sort_values('similarity',ascending = False).reset_index(drop = True)\n",
    "        print(time.time())\n",
    "\n",
    "    elif method == 'substructure':\n",
    "        df.columns = ['patent_code','smiles','date','source','each_country_code','num','country_code']\n",
    "        df = df[['smiles','country_code','patent_code','date','source','num']]\n",
    "        df = df.sort_values('num', ascending = False).reset_index(drop = True)\n",
    "        print('sub sorting df,',time.time())\n",
    "        \n",
    "    code = pd.DataFrame(df.groupby('smiles')['patent_code'].apply(lambda x: list(np.unique(x)))).reset_index().to_dict(orient='record')\n",
    "    \n",
    "    print('unique patent code,',time.time())\n",
    "    df = df.drop_duplicates('smiles',keep='first').reset_index(drop=True)\n",
    "    df['method'] = option['method']\n",
    "    print('drop duplicates,',time.time())\n",
    "    df['smarts'] = df['smiles'].apply(lambda x: get_SS_SMARTS(query[i],x))        \n",
    "\n",
    "    print('get MCS,',time.time())\n",
    "\n",
    "    output.loc[i,'query_id'] = name[i]\n",
    "    output.loc[i,'query_smiles'] = query[i]\n",
    "    output.loc[i,'num_patent'] = num.sum()\n",
    "    output.loc[i,'num_comp'] = df['smiles'].nunique()\n",
    "    output.loc[i,'patent'] = code\n",
    "    output.loc[i,'result'] = df.to_dict(orient = 'records')\n",
    "    print('into output,',time.time())\n",
    "\n",
    "\n",
    "    if i == 0: \n",
    "        print(f'>> {i+1}st compound done:')#, b-a)\n",
    "    elif i == 1: \n",
    "        print(f'>> {i+1}nd compound done:')#, b-a)\n",
    "    elif i == 2: \n",
    "        print(f'>> {i+1}rd compound done:')#, b-a)\n",
    "    else:\n",
    "        print(f'>> {i+1}th compound done:')#, b-a)\n",
    "\n",
    "end = time.time()  \n",
    "print(f'Searched patent for {round(end-start)} second')\n"
   ]
  },
  {
   "cell_type": "code",
   "execution_count": 252,
   "id": "96946ace",
   "metadata": {},
   "outputs": [
    {
     "data": {
      "text/html": [
       "<div>\n",
       "<style scoped>\n",
       "    .dataframe tbody tr th:only-of-type {\n",
       "        vertical-align: middle;\n",
       "    }\n",
       "\n",
       "    .dataframe tbody tr th {\n",
       "        vertical-align: top;\n",
       "    }\n",
       "\n",
       "    .dataframe thead th {\n",
       "        text-align: right;\n",
       "    }\n",
       "</style>\n",
       "<table border=\"1\" class=\"dataframe\">\n",
       "  <thead>\n",
       "    <tr style=\"text-align: right;\">\n",
       "      <th></th>\n",
       "      <th>query_id</th>\n",
       "      <th>query_smiles</th>\n",
       "      <th>num_patent</th>\n",
       "      <th>num_comp</th>\n",
       "      <th>patent</th>\n",
       "      <th>result</th>\n",
       "    </tr>\n",
       "  </thead>\n",
       "  <tbody>\n",
       "    <tr>\n",
       "      <th>0</th>\n",
       "      <td>Adavosertib</td>\n",
       "      <td>O=C1N(N(C2=NC(NC3=CC=C(C=C3)N4CCN(CC4)C)=NC=C2...</td>\n",
       "      <td>720</td>\n",
       "      <td>135</td>\n",
       "      <td>[{'smiles': 'C/C1=C(\\C)Cn2c(=O)c3cnc(Nc4ccc(N5...</td>\n",
       "      <td>[{'smiles': 'C=CCn1c(=O)c2cnc(Nc3ccc(N4CCN(C)C...</td>\n",
       "    </tr>\n",
       "    <tr>\n",
       "      <th>1</th>\n",
       "      <td>Afatinib</td>\n",
       "      <td>CN(C)CC=CC(=O)NC1=C(C=C2C(=C1)C(=NC=N2)NC3=CC(...</td>\n",
       "      <td>5719</td>\n",
       "      <td>149</td>\n",
       "      <td>[{'smiles': 'C#CCOCCCCCOc1ccc(-c2cc(Nc3ncnc4cc...</td>\n",
       "      <td>[{'smiles': 'CN(C)CC=CC(=O)Nc1cc2c(Nc3ccc(F)c(...</td>\n",
       "    </tr>\n",
       "    <tr>\n",
       "      <th>2</th>\n",
       "      <td>Aspirin</td>\n",
       "      <td>CC(=O)OC1=CC=CC=C1C(=O)O</td>\n",
       "      <td>4690</td>\n",
       "      <td>500</td>\n",
       "      <td>[{'smiles': 'C#COP(=O)(OC#C)OCCc1ccc(OC(=O)c2c...</td>\n",
       "      <td>[{'smiles': 'CC(=O)Oc1cc(C(F)(F)F)ccc1C(=O)O',...</td>\n",
       "    </tr>\n",
       "    <tr>\n",
       "      <th>3</th>\n",
       "      <td>test</td>\n",
       "      <td>N1=CC=CN2N=CC(C(N)=O)=C12</td>\n",
       "      <td>2900</td>\n",
       "      <td>500</td>\n",
       "      <td>[{'smiles': 'C#CC(NC(=O)c1cnn2c(C)cc(-c3cccc(C...</td>\n",
       "      <td>[{'smiles': 'COc1ncc(F)cc1C1CCCN1c1ccn2ncc(C(=...</td>\n",
       "    </tr>\n",
       "  </tbody>\n",
       "</table>\n",
       "</div>"
      ],
      "text/plain": [
       "      query_id                                       query_smiles num_patent  \\\n",
       "0  Adavosertib  O=C1N(N(C2=NC(NC3=CC=C(C=C3)N4CCN(CC4)C)=NC=C2...        720   \n",
       "1     Afatinib  CN(C)CC=CC(=O)NC1=C(C=C2C(=C1)C(=NC=N2)NC3=CC(...       5719   \n",
       "2      Aspirin                           CC(=O)OC1=CC=CC=C1C(=O)O       4690   \n",
       "3         test                          N1=CC=CN2N=CC(C(N)=O)=C12       2900   \n",
       "\n",
       "  num_comp                                             patent  \\\n",
       "0      135  [{'smiles': 'C/C1=C(\\C)Cn2c(=O)c3cnc(Nc4ccc(N5...   \n",
       "1      149  [{'smiles': 'C#CCOCCCCCOc1ccc(-c2cc(Nc3ncnc4cc...   \n",
       "2      500  [{'smiles': 'C#COP(=O)(OC#C)OCCc1ccc(OC(=O)c2c...   \n",
       "3      500  [{'smiles': 'C#CC(NC(=O)c1cnn2c(C)cc(-c3cccc(C...   \n",
       "\n",
       "                                              result  \n",
       "0  [{'smiles': 'C=CCn1c(=O)c2cnc(Nc3ccc(N4CCN(C)C...  \n",
       "1  [{'smiles': 'CN(C)CC=CC(=O)Nc1cc2c(Nc3ccc(F)c(...  \n",
       "2  [{'smiles': 'CC(=O)Oc1cc(C(F)(F)F)ccc1C(=O)O',...  \n",
       "3  [{'smiles': 'COc1ncc(F)cc1C1CCCN1c1ccn2ncc(C(=...  "
      ]
     },
     "execution_count": 252,
     "metadata": {},
     "output_type": "execute_result"
    }
   ],
   "source": [
    "output"
   ]
  },
  {
   "cell_type": "code",
   "execution_count": 251,
   "id": "745be141",
   "metadata": {},
   "outputs": [
    {
     "data": {
      "text/plain": [
       "{'smiles': 'C=CCn1c(=O)c2cnc(Nc3ccc(N4CCN(C)CC4)cc3)nc2n1-c1cccc(C(C)(C)O)n1',\n",
       " 'country_code': ['EP', 'US', 'WO'],\n",
       " 'patent_code': 'WO-2011034743-A1',\n",
       " 'date': '2011-03-24',\n",
       " 'source': 'SureChEMBL',\n",
       " 'num': 90,\n",
       " 'method': 'substructure',\n",
       " 'smarts': '[#6]=[#6]-[#6]-[#7]1:[#6](=[#8]):[#6]2:[#6](:[#7]:1-[#6]1:[#6]:[#6]:[#6]:[#6](:[#7]:1)-[#6](-[#6])(-[#6])-[#8]):[#7]:[#6](:[#7]:[#6]:2)-[#7]-[#6]1:[#6]:[#6]:[#6](:[#6]:[#6]:1)-[#7]1-[#6]-[#6]-[#7](-[#6]-[#6]-1)-[#6]'}"
      ]
     },
     "execution_count": 251,
     "metadata": {},
     "output_type": "execute_result"
    }
   ],
   "source": [
    "output.result.iloc[0][0]"
   ]
  },
  {
   "cell_type": "code",
   "execution_count": 18,
   "id": "cb14bbeb",
   "metadata": {},
   "outputs": [],
   "source": [
    "output2 = output.to_dict('list')\n",
    "with open('sample_new_revised.json', 'w') as f:\n",
    "    json.dump(output2, f)"
   ]
  },
  {
   "cell_type": "code",
   "execution_count": null,
   "id": "fdce6c8e",
   "metadata": {},
   "outputs": [],
   "source": []
  },
  {
   "cell_type": "code",
   "execution_count": null,
   "id": "b10485bf",
   "metadata": {},
   "outputs": [],
   "source": []
  },
  {
   "cell_type": "code",
   "execution_count": null,
   "id": "b7c40794",
   "metadata": {},
   "outputs": [],
   "source": []
  },
  {
   "cell_type": "code",
   "execution_count": 93,
   "id": "5fb8f174",
   "metadata": {},
   "outputs": [],
   "source": [
    "df = psql.read_sql(f\"select db.code, db.smiles, db.date, res.similarity from db inner join \\\n",
    "                            (select * from get_mfp_neighbors('{query[i]}',{threshold},{int(limit)})) as res \\\n",
    "                             on db.smiles=res.smiles;\",conn)"
   ]
  },
  {
   "cell_type": "code",
   "execution_count": 94,
   "id": "d4c26beb",
   "metadata": {},
   "outputs": [
    {
     "data": {
      "text/html": [
       "<div>\n",
       "<style scoped>\n",
       "    .dataframe tbody tr th:only-of-type {\n",
       "        vertical-align: middle;\n",
       "    }\n",
       "\n",
       "    .dataframe tbody tr th {\n",
       "        vertical-align: top;\n",
       "    }\n",
       "\n",
       "    .dataframe thead th {\n",
       "        text-align: right;\n",
       "    }\n",
       "</style>\n",
       "<table border=\"1\" class=\"dataframe\">\n",
       "  <thead>\n",
       "    <tr style=\"text-align: right;\">\n",
       "      <th></th>\n",
       "      <th>code</th>\n",
       "      <th>smiles</th>\n",
       "      <th>date</th>\n",
       "      <th>similarity</th>\n",
       "    </tr>\n",
       "  </thead>\n",
       "  <tbody>\n",
       "    <tr>\n",
       "      <th>0</th>\n",
       "      <td>WO-2012129128-A1</td>\n",
       "      <td>CC(=O)Oc1ccccc1C(=O)O</td>\n",
       "      <td>2012-09-27</td>\n",
       "      <td>1.0</td>\n",
       "    </tr>\n",
       "    <tr>\n",
       "      <th>1</th>\n",
       "      <td>WO-2012129100-A1</td>\n",
       "      <td>CC(=O)Oc1ccccc1C(=O)O</td>\n",
       "      <td>2012-09-27</td>\n",
       "      <td>1.0</td>\n",
       "    </tr>\n",
       "    <tr>\n",
       "      <th>2</th>\n",
       "      <td>WO-2012129090-A1</td>\n",
       "      <td>CC(=O)Oc1ccccc1C(=O)O</td>\n",
       "      <td>2012-09-27</td>\n",
       "      <td>1.0</td>\n",
       "    </tr>\n",
       "    <tr>\n",
       "      <th>3</th>\n",
       "      <td>WO-2012129088-A1</td>\n",
       "      <td>CC(=O)Oc1ccccc1C(=O)O</td>\n",
       "      <td>2012-09-27</td>\n",
       "      <td>1.0</td>\n",
       "    </tr>\n",
       "    <tr>\n",
       "      <th>4</th>\n",
       "      <td>WO-2012129073-A2</td>\n",
       "      <td>CC(=O)Oc1ccccc1C(=O)O</td>\n",
       "      <td>2012-09-27</td>\n",
       "      <td>1.0</td>\n",
       "    </tr>\n",
       "    <tr>\n",
       "      <th>...</th>\n",
       "      <td>...</td>\n",
       "      <td>...</td>\n",
       "      <td>...</td>\n",
       "      <td>...</td>\n",
       "    </tr>\n",
       "    <tr>\n",
       "      <th>366018</th>\n",
       "      <td>WO-2012129491-A1</td>\n",
       "      <td>CC(=O)Oc1ccccc1C(=O)O</td>\n",
       "      <td>2012-09-27</td>\n",
       "      <td>1.0</td>\n",
       "    </tr>\n",
       "    <tr>\n",
       "      <th>366019</th>\n",
       "      <td>WO-2012129406-A1</td>\n",
       "      <td>CC(=O)Oc1ccccc1C(=O)O</td>\n",
       "      <td>2012-09-27</td>\n",
       "      <td>1.0</td>\n",
       "    </tr>\n",
       "    <tr>\n",
       "      <th>366020</th>\n",
       "      <td>WO-2012129347-A1</td>\n",
       "      <td>CC(=O)Oc1ccccc1C(=O)O</td>\n",
       "      <td>2012-09-27</td>\n",
       "      <td>1.0</td>\n",
       "    </tr>\n",
       "    <tr>\n",
       "      <th>366021</th>\n",
       "      <td>WO-2012129305-A1</td>\n",
       "      <td>CC(=O)Oc1ccccc1C(=O)O</td>\n",
       "      <td>2012-09-27</td>\n",
       "      <td>1.0</td>\n",
       "    </tr>\n",
       "    <tr>\n",
       "      <th>366022</th>\n",
       "      <td>WO-2012129258-A1</td>\n",
       "      <td>CC(=O)Oc1ccccc1C(=O)O</td>\n",
       "      <td>2012-09-27</td>\n",
       "      <td>1.0</td>\n",
       "    </tr>\n",
       "  </tbody>\n",
       "</table>\n",
       "<p>366023 rows × 4 columns</p>\n",
       "</div>"
      ],
      "text/plain": [
       "                    code                 smiles        date  similarity\n",
       "0       WO-2012129128-A1  CC(=O)Oc1ccccc1C(=O)O  2012-09-27         1.0\n",
       "1       WO-2012129100-A1  CC(=O)Oc1ccccc1C(=O)O  2012-09-27         1.0\n",
       "2       WO-2012129090-A1  CC(=O)Oc1ccccc1C(=O)O  2012-09-27         1.0\n",
       "3       WO-2012129088-A1  CC(=O)Oc1ccccc1C(=O)O  2012-09-27         1.0\n",
       "4       WO-2012129073-A2  CC(=O)Oc1ccccc1C(=O)O  2012-09-27         1.0\n",
       "...                  ...                    ...         ...         ...\n",
       "366018  WO-2012129491-A1  CC(=O)Oc1ccccc1C(=O)O  2012-09-27         1.0\n",
       "366019  WO-2012129406-A1  CC(=O)Oc1ccccc1C(=O)O  2012-09-27         1.0\n",
       "366020  WO-2012129347-A1  CC(=O)Oc1ccccc1C(=O)O  2012-09-27         1.0\n",
       "366021  WO-2012129305-A1  CC(=O)Oc1ccccc1C(=O)O  2012-09-27         1.0\n",
       "366022  WO-2012129258-A1  CC(=O)Oc1ccccc1C(=O)O  2012-09-27         1.0\n",
       "\n",
       "[366023 rows x 4 columns]"
      ]
     },
     "execution_count": 94,
     "metadata": {},
     "output_type": "execute_result"
    }
   ],
   "source": [
    "df"
   ]
  },
  {
   "cell_type": "code",
   "execution_count": 97,
   "id": "7b6bcda2",
   "metadata": {},
   "outputs": [],
   "source": [
    "df['source'] = 'SureChEMBL' \n",
    "df['country'] = df['code'].apply(lambda x:x[:2])\n",
    "df = df[df['country'].isin(option['code'].split(\",\"))].reset_index(drop = True)"
   ]
  },
  {
   "cell_type": "code",
   "execution_count": 129,
   "id": "7621075e",
   "metadata": {},
   "outputs": [
    {
     "name": "stdout",
     "output_type": "stream",
     "text": [
      "1680504834.1490624\n",
      "1680504834.3220537\n",
      "1680504836.773932\n"
     ]
    }
   ],
   "source": [
    "print(time.time())\n",
    "num = df.groupby('smiles')['code'].nunique()\n",
    "print(time.time())\n",
    "df['num'] = df['smiles'].apply(lambda x: num.loc[x].item())\n",
    "print(time.time())"
   ]
  },
  {
   "cell_type": "code",
   "execution_count": 107,
   "id": "06b169ef",
   "metadata": {
    "scrolled": true
   },
   "outputs": [
    {
     "name": "stdout",
     "output_type": "stream",
     "text": [
      "1680501402.4519677\n",
      "1680501402.721144\n",
      "1680501404.8741457\n"
     ]
    },
    {
     "data": {
      "text/html": [
       "<div>\n",
       "<style scoped>\n",
       "    .dataframe tbody tr th:only-of-type {\n",
       "        vertical-align: middle;\n",
       "    }\n",
       "\n",
       "    .dataframe tbody tr th {\n",
       "        vertical-align: top;\n",
       "    }\n",
       "\n",
       "    .dataframe thead th {\n",
       "        text-align: right;\n",
       "    }\n",
       "</style>\n",
       "<table border=\"1\" class=\"dataframe\">\n",
       "  <thead>\n",
       "    <tr style=\"text-align: right;\">\n",
       "      <th></th>\n",
       "      <th>code</th>\n",
       "      <th>smiles</th>\n",
       "      <th>date</th>\n",
       "      <th>similarity</th>\n",
       "      <th>source</th>\n",
       "      <th>country</th>\n",
       "      <th>num</th>\n",
       "      <th>contries</th>\n",
       "    </tr>\n",
       "  </thead>\n",
       "  <tbody>\n",
       "    <tr>\n",
       "      <th>0</th>\n",
       "      <td>WO-2012129128-A1</td>\n",
       "      <td>CC(=O)Oc1ccccc1C(=O)O</td>\n",
       "      <td>2012-09-27</td>\n",
       "      <td>1.0</td>\n",
       "      <td>SureChEMBL</td>\n",
       "      <td>WO</td>\n",
       "      <td>365331</td>\n",
       "      <td>[EP, JP, US, WO]</td>\n",
       "    </tr>\n",
       "    <tr>\n",
       "      <th>1</th>\n",
       "      <td>WO-2012129100-A1</td>\n",
       "      <td>CC(=O)Oc1ccccc1C(=O)O</td>\n",
       "      <td>2012-09-27</td>\n",
       "      <td>1.0</td>\n",
       "      <td>SureChEMBL</td>\n",
       "      <td>WO</td>\n",
       "      <td>365331</td>\n",
       "      <td>[EP, JP, US, WO]</td>\n",
       "    </tr>\n",
       "    <tr>\n",
       "      <th>2</th>\n",
       "      <td>WO-2012129090-A1</td>\n",
       "      <td>CC(=O)Oc1ccccc1C(=O)O</td>\n",
       "      <td>2012-09-27</td>\n",
       "      <td>1.0</td>\n",
       "      <td>SureChEMBL</td>\n",
       "      <td>WO</td>\n",
       "      <td>365331</td>\n",
       "      <td>[EP, JP, US, WO]</td>\n",
       "    </tr>\n",
       "    <tr>\n",
       "      <th>3</th>\n",
       "      <td>WO-2012129088-A1</td>\n",
       "      <td>CC(=O)Oc1ccccc1C(=O)O</td>\n",
       "      <td>2012-09-27</td>\n",
       "      <td>1.0</td>\n",
       "      <td>SureChEMBL</td>\n",
       "      <td>WO</td>\n",
       "      <td>365331</td>\n",
       "      <td>[EP, JP, US, WO]</td>\n",
       "    </tr>\n",
       "    <tr>\n",
       "      <th>4</th>\n",
       "      <td>WO-2012129073-A2</td>\n",
       "      <td>CC(=O)Oc1ccccc1C(=O)O</td>\n",
       "      <td>2012-09-27</td>\n",
       "      <td>1.0</td>\n",
       "      <td>SureChEMBL</td>\n",
       "      <td>WO</td>\n",
       "      <td>365331</td>\n",
       "      <td>[EP, JP, US, WO]</td>\n",
       "    </tr>\n",
       "    <tr>\n",
       "      <th>...</th>\n",
       "      <td>...</td>\n",
       "      <td>...</td>\n",
       "      <td>...</td>\n",
       "      <td>...</td>\n",
       "      <td>...</td>\n",
       "      <td>...</td>\n",
       "      <td>...</td>\n",
       "      <td>...</td>\n",
       "    </tr>\n",
       "    <tr>\n",
       "      <th>366018</th>\n",
       "      <td>WO-2012129491-A1</td>\n",
       "      <td>CC(=O)Oc1ccccc1C(=O)O</td>\n",
       "      <td>2012-09-27</td>\n",
       "      <td>1.0</td>\n",
       "      <td>SureChEMBL</td>\n",
       "      <td>WO</td>\n",
       "      <td>365331</td>\n",
       "      <td>[EP, JP, US, WO]</td>\n",
       "    </tr>\n",
       "    <tr>\n",
       "      <th>366019</th>\n",
       "      <td>WO-2012129406-A1</td>\n",
       "      <td>CC(=O)Oc1ccccc1C(=O)O</td>\n",
       "      <td>2012-09-27</td>\n",
       "      <td>1.0</td>\n",
       "      <td>SureChEMBL</td>\n",
       "      <td>WO</td>\n",
       "      <td>365331</td>\n",
       "      <td>[EP, JP, US, WO]</td>\n",
       "    </tr>\n",
       "    <tr>\n",
       "      <th>366020</th>\n",
       "      <td>WO-2012129347-A1</td>\n",
       "      <td>CC(=O)Oc1ccccc1C(=O)O</td>\n",
       "      <td>2012-09-27</td>\n",
       "      <td>1.0</td>\n",
       "      <td>SureChEMBL</td>\n",
       "      <td>WO</td>\n",
       "      <td>365331</td>\n",
       "      <td>[EP, JP, US, WO]</td>\n",
       "    </tr>\n",
       "    <tr>\n",
       "      <th>366021</th>\n",
       "      <td>WO-2012129305-A1</td>\n",
       "      <td>CC(=O)Oc1ccccc1C(=O)O</td>\n",
       "      <td>2012-09-27</td>\n",
       "      <td>1.0</td>\n",
       "      <td>SureChEMBL</td>\n",
       "      <td>WO</td>\n",
       "      <td>365331</td>\n",
       "      <td>[EP, JP, US, WO]</td>\n",
       "    </tr>\n",
       "    <tr>\n",
       "      <th>366022</th>\n",
       "      <td>WO-2012129258-A1</td>\n",
       "      <td>CC(=O)Oc1ccccc1C(=O)O</td>\n",
       "      <td>2012-09-27</td>\n",
       "      <td>1.0</td>\n",
       "      <td>SureChEMBL</td>\n",
       "      <td>WO</td>\n",
       "      <td>365331</td>\n",
       "      <td>[EP, JP, US, WO]</td>\n",
       "    </tr>\n",
       "  </tbody>\n",
       "</table>\n",
       "<p>366023 rows × 8 columns</p>\n",
       "</div>"
      ],
      "text/plain": [
       "                    code                 smiles        date  similarity  \\\n",
       "0       WO-2012129128-A1  CC(=O)Oc1ccccc1C(=O)O  2012-09-27         1.0   \n",
       "1       WO-2012129100-A1  CC(=O)Oc1ccccc1C(=O)O  2012-09-27         1.0   \n",
       "2       WO-2012129090-A1  CC(=O)Oc1ccccc1C(=O)O  2012-09-27         1.0   \n",
       "3       WO-2012129088-A1  CC(=O)Oc1ccccc1C(=O)O  2012-09-27         1.0   \n",
       "4       WO-2012129073-A2  CC(=O)Oc1ccccc1C(=O)O  2012-09-27         1.0   \n",
       "...                  ...                    ...         ...         ...   \n",
       "366018  WO-2012129491-A1  CC(=O)Oc1ccccc1C(=O)O  2012-09-27         1.0   \n",
       "366019  WO-2012129406-A1  CC(=O)Oc1ccccc1C(=O)O  2012-09-27         1.0   \n",
       "366020  WO-2012129347-A1  CC(=O)Oc1ccccc1C(=O)O  2012-09-27         1.0   \n",
       "366021  WO-2012129305-A1  CC(=O)Oc1ccccc1C(=O)O  2012-09-27         1.0   \n",
       "366022  WO-2012129258-A1  CC(=O)Oc1ccccc1C(=O)O  2012-09-27         1.0   \n",
       "\n",
       "            source country     num          contries  \n",
       "0       SureChEMBL      WO  365331  [EP, JP, US, WO]  \n",
       "1       SureChEMBL      WO  365331  [EP, JP, US, WO]  \n",
       "2       SureChEMBL      WO  365331  [EP, JP, US, WO]  \n",
       "3       SureChEMBL      WO  365331  [EP, JP, US, WO]  \n",
       "4       SureChEMBL      WO  365331  [EP, JP, US, WO]  \n",
       "...            ...     ...     ...               ...  \n",
       "366018  SureChEMBL      WO  365331  [EP, JP, US, WO]  \n",
       "366019  SureChEMBL      WO  365331  [EP, JP, US, WO]  \n",
       "366020  SureChEMBL      WO  365331  [EP, JP, US, WO]  \n",
       "366021  SureChEMBL      WO  365331  [EP, JP, US, WO]  \n",
       "366022  SureChEMBL      WO  365331  [EP, JP, US, WO]  \n",
       "\n",
       "[366023 rows x 8 columns]"
      ]
     },
     "execution_count": 107,
     "metadata": {},
     "output_type": "execute_result"
    }
   ],
   "source": [
    "print(time.time())\n",
    "kigdom = df.groupby('smiles')['country'].apply(lambda x: list(np.unique(x)))\n",
    "print(time.time())\n",
    "df['contries'] = df['smiles'].apply(lambda x: kigdom.loc[x])\n",
    "print(time.time())\n",
    "df"
   ]
  },
  {
   "cell_type": "code",
   "execution_count": 179,
   "id": "432d9b8e",
   "metadata": {},
   "outputs": [
    {
     "name": "stdout",
     "output_type": "stream",
     "text": [
      "646 µs ± 2.83 µs per loop (mean ± std. dev. of 7 runs, 1,000 loops each)\n"
     ]
    }
   ],
   "source": [
    "%timeit pd.DataFrame(res_temp.groupby('smiles')['code'].apply(lambda x: list(np.unique(x)))).reset_index().to_dict(orient='record') #code"
   ]
  },
  {
   "cell_type": "code",
   "execution_count": 75,
   "id": "fea57393",
   "metadata": {},
   "outputs": [
    {
     "name": "stdout",
     "output_type": "stream",
     "text": [
      "23.7 ms ± 314 µs per loop (mean ± std. dev. of 7 runs, 10 loops each)\n"
     ]
    }
   ],
   "source": [
    "%timeit list(set(df['country']))"
   ]
  },
  {
   "cell_type": "code",
   "execution_count": 76,
   "id": "a32d8c9b",
   "metadata": {},
   "outputs": [
    {
     "name": "stdout",
     "output_type": "stream",
     "text": [
      "14 ms ± 33.9 µs per loop (mean ± std. dev. of 7 runs, 100 loops each)\n"
     ]
    }
   ],
   "source": [
    "%timeit df['country']df['country'].unique().tolist()"
   ]
  },
  {
   "cell_type": "code",
   "execution_count": 80,
   "id": "92da1bdb",
   "metadata": {},
   "outputs": [
    {
     "name": "stdout",
     "output_type": "stream",
     "text": [
      "14.1 ms ± 7.81 µs per loop (mean ± std. dev. of 7 runs, 100 loops each)\n"
     ]
    }
   ],
   "source": [
    "%timeit ','.join(df['country'].unique().tolist())"
   ]
  },
  {
   "cell_type": "code",
   "execution_count": 215,
   "id": "39878db1",
   "metadata": {},
   "outputs": [],
   "source": [
    "method = 'substructure'"
   ]
  },
  {
   "cell_type": "code",
   "execution_count": null,
   "id": "dc79582e",
   "metadata": {},
   "outputs": [],
   "source": []
  },
  {
   "cell_type": "code",
   "execution_count": 10,
   "id": "e9b51a33",
   "metadata": {},
   "outputs": [],
   "source": [
    "# name = ['Aspirine']\n",
    "# query = ['CC(=O)Oc1ccccc1C(=O)O']"
   ]
  },
  {
   "cell_type": "code",
   "execution_count": 17,
   "id": "5a1df688",
   "metadata": {
    "scrolled": true
   },
   "outputs": [
    {
     "name": "stderr",
     "output_type": "stream",
     "text": [
      "/tmp/ipykernel_3467325/2551370446.py:5: UserWarning: pandas only supports SQLAlchemy connectable (engine/connection) or database string URI or sqlite3 DBAPI2 connection. Other DBAPI2 objects are not tested. Please consider using SQLAlchemy.\n",
      "  df = psql.read_sql(f\"select db.code, db.smiles, db.date, res.similarity from db inner join (select * from get_mfp_neighbors('{query[i]}',{threshold},{int(limit)})) as res on db.smiles=res.smiles;\",conn)\n"
     ]
    },
    {
     "name": "stdout",
     "output_type": "stream",
     "text": [
      "0 60.29944705963135\n"
     ]
    },
    {
     "name": "stderr",
     "output_type": "stream",
     "text": [
      "/tmp/ipykernel_3467325/2551370446.py:5: UserWarning: pandas only supports SQLAlchemy connectable (engine/connection) or database string URI or sqlite3 DBAPI2 connection. Other DBAPI2 objects are not tested. Please consider using SQLAlchemy.\n",
      "  df = psql.read_sql(f\"select db.code, db.smiles, db.date, res.similarity from db inner join (select * from get_mfp_neighbors('{query[i]}',{threshold},{int(limit)})) as res on db.smiles=res.smiles;\",conn)\n"
     ]
    },
    {
     "name": "stdout",
     "output_type": "stream",
     "text": [
      "1 61.21188950538635\n"
     ]
    },
    {
     "data": {
      "text/html": [
       "<div>\n",
       "<style scoped>\n",
       "    .dataframe tbody tr th:only-of-type {\n",
       "        vertical-align: middle;\n",
       "    }\n",
       "\n",
       "    .dataframe tbody tr th {\n",
       "        vertical-align: top;\n",
       "    }\n",
       "\n",
       "    .dataframe thead th {\n",
       "        text-align: right;\n",
       "    }\n",
       "</style>\n",
       "<table border=\"1\" class=\"dataframe\">\n",
       "  <thead>\n",
       "    <tr style=\"text-align: right;\">\n",
       "      <th></th>\n",
       "      <th>query_id</th>\n",
       "      <th>query_smiles</th>\n",
       "      <th>num_patent</th>\n",
       "      <th>num_comp</th>\n",
       "      <th>patent</th>\n",
       "      <th>result</th>\n",
       "    </tr>\n",
       "  </thead>\n",
       "  <tbody>\n",
       "    <tr>\n",
       "      <th>0</th>\n",
       "      <td>Adavosertib</td>\n",
       "      <td>O=C1N(N(C2=NC(NC3=CC=C(C=C3)N4CCN(CC4)C)=NC=C2...</td>\n",
       "      <td>90</td>\n",
       "      <td>2</td>\n",
       "      <td>[US-20160289686-A1, WO-2014085216-A1, US-99447...</td>\n",
       "      <td>[{'smiles': 'C=CCn1c(=O)c2cnc(Nc3ccc(N4CCN(C)C...</td>\n",
       "    </tr>\n",
       "    <tr>\n",
       "      <th>1</th>\n",
       "      <td>Afatinib</td>\n",
       "      <td>CN(C)CC=CC(=O)NC1=C(C=C2C(=C1)C(=NC=N2)NC3=CC(...</td>\n",
       "      <td>1131</td>\n",
       "      <td>7</td>\n",
       "      <td>[US-20160287591-A1, WO-2014163714-A2, WO-20151...</td>\n",
       "      <td>[{'smiles': 'CN(C)C/C=C/C(=O)Nc1cc2c(Nc3ccc(F)...</td>\n",
       "    </tr>\n",
       "  </tbody>\n",
       "</table>\n",
       "</div>"
      ],
      "text/plain": [
       "      query_id                                       query_smiles num_patent  \\\n",
       "0  Adavosertib  O=C1N(N(C2=NC(NC3=CC=C(C=C3)N4CCN(CC4)C)=NC=C2...         90   \n",
       "1     Afatinib  CN(C)CC=CC(=O)NC1=C(C=C2C(=C1)C(=NC=N2)NC3=CC(...       1131   \n",
       "\n",
       "  num_comp                                             patent  \\\n",
       "0        2  [US-20160289686-A1, WO-2014085216-A1, US-99447...   \n",
       "1        7  [US-20160287591-A1, WO-2014163714-A2, WO-20151...   \n",
       "\n",
       "                                              result  \n",
       "0  [{'smiles': 'C=CCn1c(=O)c2cnc(Nc3ccc(N4CCN(C)C...  \n",
       "1  [{'smiles': 'CN(C)C/C=C/C(=O)Nc1cc2c(Nc3ccc(F)...  "
      ]
     },
     "execution_count": 17,
     "metadata": {},
     "output_type": "execute_result"
    }
   ],
   "source": [
    "output3 = pd.DataFrame(columns=  ['query_id','query_smiles','num_patent','num_comp','patent','result'])\n",
    "start = time.time()\n",
    "for i in range(len(name)):\n",
    "    a = time.time()\n",
    "    df = psql.read_sql(f\"select db.code, db.smiles, db.date, res.similarity from db inner join (select * from get_mfp_neighbors('{query[i]}',{threshold},{int(limit)})) as res on db.smiles=res.smiles;\",conn)\n",
    "    df = df.sort_values('similarity',ascending = False).reset_index(drop = True)\n",
    "    b = time.time()\n",
    "    print(i, b-a)\n",
    "    df['source'] = 'SureChEMBL' \n",
    "    df['country'] = df['code'].apply(lambda x:x[:2])\n",
    "    df = df[df['country'].isin(option['code'].split(\",\"))].reset_index(drop = True)\n",
    "\n",
    "    num = df.groupby('smiles').count()['country']\n",
    "    df['num'] = df['smiles'].apply(lambda x: num.loc[x].item())\n",
    "    df['contries'] = df['country'].apply(lambda x: df['country'].unique().tolist())\n",
    "    df.columns = ['patent_code','smiles','date','similarity','source','each_country_code','num','country_code']\n",
    "    df = df[['smiles','similarity','country_code','patent_code','date','source','num']]\n",
    "    \n",
    "\n",
    "    code = df['patent_code'].unique().tolist()\n",
    "    df = df.drop_duplicates('smiles',keep='first').reset_index(drop=True)\n",
    "    df['method'] = option['method']\n",
    "\n",
    "    output3.loc[i,'query_id'] = name[i]\n",
    "    output3.loc[i,'query_smiles'] = query[i]\n",
    "    output3.loc[i,'num_patent'] = len(code)\n",
    "    output3.loc[i,'num_comp'] = df['smiles'].nunique()\n",
    "    output3.loc[i,'patent'] = code\n",
    "    output3.loc[i,'result'] = df.to_dict(orient = 'records')\n",
    "\n",
    "output3"
   ]
  },
  {
   "cell_type": "code",
   "execution_count": 20,
   "id": "a487f6b6",
   "metadata": {},
   "outputs": [
    {
     "name": "stderr",
     "output_type": "stream",
     "text": [
      "/tmp/ipykernel_3467325/3633533019.py:1: UserWarning: pandas only supports SQLAlchemy connectable (engine/connection) or database string URI or sqlite3 DBAPI2 connection. Other DBAPI2 objects are not tested. Please consider using SQLAlchemy.\n",
      "  df = psql.read_sql(f\"select db.code, db.smiles, db.date, res.similarity from db inner join (select * from get_mfp_neighbors('{query[i]}',{threshold},{int(limit)})) as res on db.smiles=res.smiles;\",conn)\n"
     ]
    },
    {
     "name": "stdout",
     "output_type": "stream",
     "text": [
      "1 461.2774374485016\n"
     ]
    }
   ],
   "source": [
    "df = psql.read_sql(f\"select db.code, db.smiles, db.date, res.similarity from db inner join (select * from get_mfp_neighbors('{query[i]}',{threshold},{int(limit)})) as res on db.smiles=res.smiles;\",conn)\n",
    "df = df.sort_values('similarity',ascending = False).reset_index(drop = True)\n",
    "b = time.time()\n",
    "print(i, b-a)\n",
    "df['source'] = 'SureChEMBL' \n",
    "df['country'] = df['code'].apply(lambda x:x[:2])\n",
    "df = df[df['country'].isin(option['code'].split(\",\"))].reset_index(drop = True)\n",
    "\n",
    "num = df.groupby('smiles').count()['country']\n",
    "df['num'] = df['smiles'].apply(lambda x: num.loc[x].item())\n",
    "df['contries'] = df['country'].apply(lambda x: df['country'].unique().tolist())\n",
    "df.columns = ['patent_code','smiles','date','similarity','source','each_country_code','num','country_code']\n",
    "df = df[['smiles','similarity','country_code','patent_code','date','source','num']]"
   ]
  },
  {
   "cell_type": "code",
   "execution_count": 22,
   "id": "0acb7fbf",
   "metadata": {},
   "outputs": [
    {
     "data": {
      "text/plain": [
       "1131"
      ]
     },
     "execution_count": 22,
     "metadata": {},
     "output_type": "execute_result"
    }
   ],
   "source": [
    "df['patent_code'].nunique()"
   ]
  },
  {
   "cell_type": "code",
   "execution_count": 23,
   "id": "e2daf3ad",
   "metadata": {},
   "outputs": [
    {
     "data": {
      "text/plain": [
       "[{'smiles': 'CN(C)C/C=C/C(=O)Nc1cc2c(Nc3ccc(F)c(Cl)c3)ncnc2cc1O[C@H]1CCOC1',\n",
       "  'similarity': 1.0,\n",
       "  'country_code': ['US', 'WO', 'EP', 'JP'],\n",
       "  'patent_code': 'US-20160287591-A1',\n",
       "  'date': '2016-10-06',\n",
       "  'source': 'SureChEMBL',\n",
       "  'num': 814,\n",
       "  'method': 'Similarity'},\n",
       " {'smiles': 'CN(C)C/C=C/C(=O)Nc1cc2c(Nc3ccc(F)c(Cl)c3)ncnc2cc1OC1CCOC1',\n",
       "  'similarity': 1.0,\n",
       "  'country_code': ['US', 'WO', 'EP', 'JP'],\n",
       "  'patent_code': 'WO-2014163714-A2',\n",
       "  'date': '2014-10-09',\n",
       "  'source': 'SureChEMBL',\n",
       "  'num': 52,\n",
       "  'method': 'Similarity'},\n",
       " {'smiles': 'CN(C)CC=CC(=O)Nc1cc2c(Nc3ccc(F)c(Cl)c3)ncnc2cc1OC1CCOC1',\n",
       "  'similarity': 1.0,\n",
       "  'country_code': ['US', 'WO', 'EP', 'JP'],\n",
       "  'patent_code': 'WO-2015101554-A1',\n",
       "  'date': '2015-07-09',\n",
       "  'source': 'SureChEMBL',\n",
       "  'num': 594,\n",
       "  'method': 'Similarity'},\n",
       " {'smiles': 'CN(C)CC=CC(=O)Nc1cc2c(Nc3ccc(F)c(Cl)c3)ncnc2cc1O[C@H]1CCOC1',\n",
       "  'similarity': 1.0,\n",
       "  'country_code': ['US', 'WO', 'EP', 'JP'],\n",
       "  'patent_code': 'WO-2015101554-A1',\n",
       "  'date': '2015-07-09',\n",
       "  'source': 'SureChEMBL',\n",
       "  'num': 955,\n",
       "  'method': 'Similarity'},\n",
       " {'smiles': 'CN(C)C/C=C/C(=O)Nc1cc2c(Nc3ccc(F)c(Cl)c3)ncnc2cc1O[C@@H]1CCOC1',\n",
       "  'similarity': 1.0,\n",
       "  'country_code': ['US', 'WO', 'EP', 'JP'],\n",
       "  'patent_code': 'WO-2015140051-A1',\n",
       "  'date': '2015-09-24',\n",
       "  'source': 'SureChEMBL',\n",
       "  'num': 430,\n",
       "  'method': 'Similarity'},\n",
       " {'smiles': 'CN(C)CC=CC(=O)Nc1cc2c(Nc3ccc(F)c(Cl)c3)ncnc2cc1O[C@@H]1CCOC1',\n",
       "  'similarity': 1.0,\n",
       "  'country_code': ['US', 'WO', 'EP', 'JP'],\n",
       "  'patent_code': 'WO-2015160787-A1',\n",
       "  'date': '2015-10-22',\n",
       "  'source': 'SureChEMBL',\n",
       "  'num': 648,\n",
       "  'method': 'Similarity'},\n",
       " {'smiles': 'CN(C)CC=CC(=O)Nc1cc2c(Nc3ccc(F)c(Cl)c3)ncnc2cc1OC1CCOCC1',\n",
       "  'similarity': 0.9459459459459459,\n",
       "  'country_code': ['US', 'WO', 'EP', 'JP'],\n",
       "  'patent_code': 'EP-2340837-A1',\n",
       "  'date': '2011-07-06',\n",
       "  'source': 'SureChEMBL',\n",
       "  'num': 31,\n",
       "  'method': 'Similarity'}]"
      ]
     },
     "execution_count": 23,
     "metadata": {},
     "output_type": "execute_result"
    }
   ],
   "source": [
    "output3['result'].iloc[1]"
   ]
  },
  {
   "cell_type": "code",
   "execution_count": 18,
   "id": "55cb571c",
   "metadata": {},
   "outputs": [
    {
     "data": {
      "text/plain": [
       "[90, 8]"
      ]
     },
     "execution_count": 18,
     "metadata": {},
     "output_type": "execute_result"
    }
   ],
   "source": [
    "[x['num'] for x in output3['result'].iloc[0]]"
   ]
  },
  {
   "cell_type": "code",
   "execution_count": 30,
   "id": "f46a8a13",
   "metadata": {},
   "outputs": [
    {
     "data": {
      "text/plain": [
       "[{'smiles': 'CN(C)CC=CC(=O)Nc1cc2c(Nc3ccc(F)c(Cl)c3)ncnc2cc1O[C@H]1CCOC1',\n",
       "  'similarity': 1.0,\n",
       "  'country_code': ['US', 'EP', 'WO', 'JP'],\n",
       "  'patent_code': 'US-20190233433-A1',\n",
       "  'date': '2019-08-01',\n",
       "  'source': 'SureChEMBL',\n",
       "  'num': 955,\n",
       "  'method': 'Similarity'},\n",
       " {'smiles': 'CN(C)C/C=C/C(=O)Nc1cc2c(Nc3ccc(F)c(Cl)c3)ncnc2cc1O[C@H]1CCOC1',\n",
       "  'similarity': 1.0,\n",
       "  'country_code': ['US', 'EP', 'WO', 'JP'],\n",
       "  'patent_code': 'EP-1478398-B1',\n",
       "  'date': '2009-05-06',\n",
       "  'source': 'SureChEMBL',\n",
       "  'num': 814,\n",
       "  'method': 'Similarity'},\n",
       " {'smiles': 'CN(C)CC=CC(=O)Nc1cc2c(Nc3ccc(F)c(Cl)c3)ncnc2cc1O[C@@H]1CCOC1',\n",
       "  'similarity': 1.0,\n",
       "  'country_code': ['US', 'EP', 'WO', 'JP'],\n",
       "  'patent_code': 'EP-1478398-A1',\n",
       "  'date': '2004-11-24',\n",
       "  'source': 'SureChEMBL',\n",
       "  'num': 648,\n",
       "  'method': 'Similarity'},\n",
       " {'smiles': 'CN(C)CC=CC(=O)Nc1cc2c(Nc3ccc(F)c(Cl)c3)ncnc2cc1OC1CCOC1',\n",
       "  'similarity': 1.0,\n",
       "  'country_code': ['US', 'EP', 'WO', 'JP'],\n",
       "  'patent_code': 'EP-1345910-B9',\n",
       "  'date': '2014-06-04',\n",
       "  'source': 'SureChEMBL',\n",
       "  'num': 594,\n",
       "  'method': 'Similarity'},\n",
       " {'smiles': 'CN(C)C/C=C/C(=O)Nc1cc2c(Nc3ccc(F)c(Cl)c3)ncnc2cc1O[C@@H]1CCOC1',\n",
       "  'similarity': 1.0,\n",
       "  'country_code': ['US', 'EP', 'WO', 'JP'],\n",
       "  'patent_code': 'EP-1345910-B9',\n",
       "  'date': '2014-06-04',\n",
       "  'source': 'SureChEMBL',\n",
       "  'num': 430,\n",
       "  'method': 'Similarity'},\n",
       " {'smiles': 'CN(C)C/C=C/C(=O)Nc1cc2c(Nc3ccc(F)c(Cl)c3)ncnc2cc1OC1CCOC1',\n",
       "  'similarity': 1.0,\n",
       "  'country_code': ['US', 'EP', 'WO', 'JP'],\n",
       "  'patent_code': 'WO-2021094379-A1',\n",
       "  'date': '2021-05-20',\n",
       "  'source': 'SureChEMBL',\n",
       "  'num': 52,\n",
       "  'method': 'Similarity'},\n",
       " {'smiles': 'CN(C)CC=CC(=O)Nc1cc2c(Nc3ccc(F)c(Cl)c3)ncnc2cc1OC1CCOCC1',\n",
       "  'similarity': 0.9459459459459459,\n",
       "  'country_code': ['US', 'EP', 'WO', 'JP'],\n",
       "  'patent_code': 'EP-1948179-A1',\n",
       "  'date': '2008-07-30',\n",
       "  'source': 'SureChEMBL',\n",
       "  'num': 31,\n",
       "  'method': 'Similarity'}]"
      ]
     },
     "execution_count": 30,
     "metadata": {},
     "output_type": "execute_result"
    }
   ],
   "source": [
    "output3['result'].iloc[1]"
   ]
  },
  {
   "cell_type": "code",
   "execution_count": 22,
   "id": "67ad0630",
   "metadata": {},
   "outputs": [
    {
     "name": "stderr",
     "output_type": "stream",
     "text": [
      "\n",
      "KeyboardInterrupt\n",
      "\n"
     ]
    }
   ],
   "source": [
    "output3['sim2'] = output3['similarity'].apply(lambda x: round(x,2))\n",
    "output3['sim3'] = output3['similarity'].apply(lambda x: round(x,3))\n",
    "output3['sim4'] = output3['similarity'].apply(lambda x: round(x,4))"
   ]
  },
  {
   "cell_type": "code",
   "execution_count": null,
   "id": "9d10b0e3",
   "metadata": {},
   "outputs": [],
   "source": []
  },
  {
   "cell_type": "code",
   "execution_count": null,
   "id": "5aa18f3a",
   "metadata": {},
   "outputs": [],
   "source": []
  },
  {
   "cell_type": "code",
   "execution_count": 39,
   "id": "46603f51",
   "metadata": {},
   "outputs": [],
   "source": [
    "output2 = output3.to_dict('list')\n",
    "with open('sample2.json', 'w') as f:\n",
    "    json.dump(output2, f)"
   ]
  },
  {
   "cell_type": "code",
   "execution_count": 40,
   "id": "e5546db8",
   "metadata": {},
   "outputs": [],
   "source": [
    "conn.close()"
   ]
  },
  {
   "cell_type": "code",
   "execution_count": null,
   "id": "1e3c5267",
   "metadata": {},
   "outputs": [],
   "source": []
  }
 ],
 "metadata": {
  "kernelspec": {
   "display_name": "Python 3 (ipykernel)",
   "language": "python",
   "name": "python3"
  },
  "language_info": {
   "codemirror_mode": {
    "name": "ipython",
    "version": 3
   },
   "file_extension": ".py",
   "mimetype": "text/x-python",
   "name": "python",
   "nbconvert_exporter": "python",
   "pygments_lexer": "ipython3",
   "version": "3.8.12"
  },
  "varInspector": {
   "cols": {
    "lenName": 16,
    "lenType": 16,
    "lenVar": 40
   },
   "kernels_config": {
    "python": {
     "delete_cmd_postfix": "",
     "delete_cmd_prefix": "del ",
     "library": "var_list.py",
     "varRefreshCmd": "print(var_dic_list())"
    },
    "r": {
     "delete_cmd_postfix": ") ",
     "delete_cmd_prefix": "rm(",
     "library": "var_list.r",
     "varRefreshCmd": "cat(var_dic_list()) "
    }
   },
   "types_to_exclude": [
    "module",
    "function",
    "builtin_function_or_method",
    "instance",
    "_Feature"
   ],
   "window_display": false
  }
 },
 "nbformat": 4,
 "nbformat_minor": 5
}
